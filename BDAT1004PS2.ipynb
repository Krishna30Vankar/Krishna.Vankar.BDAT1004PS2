{
 "cells": [
  {
   "cell_type": "markdown",
   "id": "96ee1f9f",
   "metadata": {},
   "source": [
    "# PROBLEM SET 2 #"
   ]
  },
  {
   "cell_type": "markdown",
   "id": "e3035c5c",
   "metadata": {},
   "source": [
    "**QUESTION 1**"
   ]
  },
  {
   "cell_type": "code",
   "execution_count": 7,
   "id": "12b6d2e0",
   "metadata": {},
   "outputs": [
    {
     "data": {
      "text/plain": [
       "6"
      ]
     },
     "execution_count": 7,
     "metadata": {},
     "output_type": "execute_result"
    }
   ],
   "source": [
    "a = 0\n",
    "\n",
    "def b():\n",
    "    global a\n",
    "    a = c(a)\n",
    "\n",
    "def c(a):\n",
    "    return a + 2\n",
    "b()\n",
    "b()\n",
    "b()\n",
    "a\n"
   ]
  },
  {
   "cell_type": "markdown",
   "id": "d60f6da0",
   "metadata": {},
   "source": [
    "==> The value evaluated at the end of the expression ( which is >>a) is 6. ==> At first the variable (a) has assigned the value zero(0) , then the function b that the sets of values of a. which calls function c with a, where it returns the result by adding 2 it. As seen a = 0 , then by executing b() it will call the function b and will get a = c(0) (which calls function c ), Therefore, function c will return a +2 (where, initially a = 0). On the first execution of >>b() we get 2. On the second time execution of >>b() it will call function b now the value of a is 2 and a = c(2), then it will call the function c in which value of a (2) + 2 will get 4. This code execute three times >>b() which will return the result of a is 6 ( by using same process)."
   ]
  },
  {
   "cell_type": "markdown",
   "id": "d66920a3",
   "metadata": {},
   "source": [
    "**QUESTION 2**"
   ]
  },
  {
   "cell_type": "code",
   "execution_count": 12,
   "id": "3288f1f9",
   "metadata": {},
   "outputs": [
    {
     "data": {
      "text/plain": [
       "123"
      ]
     },
     "execution_count": 12,
     "metadata": {},
     "output_type": "execute_result"
    }
   ],
   "source": [
    "def fileLength(filename):\n",
    "    try:\n",
    "        infile = open(filename)\n",
    "        content = infile.read()\n",
    "        infile.close()\n",
    "        return len(content)\n",
    "    except FileNotFoundError:\n",
    "        print(f\"File {filename} not found.\")\n",
    "\n",
    "fileLength('FileLength.txt')  \n",
    "\n"
   ]
  },
  {
   "cell_type": "code",
   "execution_count": 4,
   "id": "b247d3e4",
   "metadata": {},
   "outputs": [
    {
     "name": "stdout",
     "output_type": "stream",
     "text": [
      "File idterm.py not found.\n"
     ]
    }
   ],
   "source": [
    "fileLength('idterm.py') "
   ]
  },
  {
   "cell_type": "markdown",
   "id": "f09341d5",
   "metadata": {},
   "source": [
    "**QUESTION 3**"
   ]
  },
  {
   "cell_type": "code",
   "execution_count": 8,
   "id": "59cba8fd",
   "metadata": {},
   "outputs": [
    {
     "name": "stdout",
     "output_type": "stream",
     "text": [
      "['doll', 'firetruck', 'kitten']\n",
      "I'm a kangaroo located at locations(0,0)\n",
      "['Toy', 'Krishna', 'Dog']\n",
      "I'm a kangaroo located at locations(27,15)\n"
     ]
    }
   ],
   "source": [
    "class Marsupial:\n",
    "    def __init__(self):\n",
    "        self.pouch = []\n",
    "        \n",
    "    def put_in_pouch(self,item):\n",
    "        self.pouch.append(item)\n",
    "        \n",
    "    def pouch_contents(self):\n",
    "        return self.pouch\n",
    "m = Marsupial()\n",
    "m.put_in_pouch('doll')\n",
    "m.put_in_pouch('firetruck')\n",
    "m.put_in_pouch('kitten')\n",
    "print(m.pouch_contents())\n",
    "\n",
    "class Kangaroo(Marsupial):\n",
    "    def __init__(self,x=0,y=0):\n",
    "        super().__init__()\n",
    "        self.x=x\n",
    "        self.y=y\n",
    "        \n",
    "    def jump(self,dx,dy):\n",
    "        self.x+=dx\n",
    "        self.y+=dy\n",
    "        \n",
    "    def __str__(self):\n",
    "        return \"I'm a kangaroo located at locations({},{})\".format(self.x,self.y)\n",
    "    \n",
    "\n",
    "k = Kangaroo(0,0)\n",
    "print(k)\n",
    "k.put_in_pouch('Toy')\n",
    "k.put_in_pouch('Krishna')\n",
    "k.put_in_pouch('Dog')\n",
    "print(k.pouch_contents())\n",
    "k.jump(3,10)\n",
    "k.jump(9,4)\n",
    "k.jump(15,1)\n",
    "print(k)      "
   ]
  },
  {
   "cell_type": "markdown",
   "id": "64934468",
   "metadata": {},
   "source": [
    "**QUESTION 4**"
   ]
  },
  {
   "cell_type": "code",
   "execution_count": 9,
   "id": "b8cff9eb",
   "metadata": {},
   "outputs": [
    {
     "name": "stdout",
     "output_type": "stream",
     "text": [
      "10\n",
      "5\n",
      "16\n",
      "8\n",
      "4\n",
      "2\n",
      "1\n"
     ]
    }
   ],
   "source": [
    "def collatz(x):\n",
    "    print(x)\n",
    "    if x==1:\n",
    "        return \n",
    "    elif x%2==0:\n",
    "        collatz(x//2)\n",
    "    else:\n",
    "            collatz(3*x+1)\n",
    "collatz(10)"
   ]
  },
  {
   "cell_type": "markdown",
   "id": "d0f2b963",
   "metadata": {},
   "source": [
    "**QUESTION 5**"
   ]
  },
  {
   "cell_type": "code",
   "execution_count": 10,
   "id": "14f4f214",
   "metadata": {},
   "outputs": [
    {
     "data": {
      "text/plain": [
       "'1001'"
      ]
     },
     "execution_count": 10,
     "metadata": {},
     "output_type": "execute_result"
    }
   ],
   "source": [
    "def binary(n):\n",
    "    if n == 0:\n",
    "        return (\"0\")\n",
    "    elif n==1:\n",
    "        return (\"1\")\n",
    "    else:\n",
    "        return binary(n // 2) + str(n % 2)\n",
    "#print(\"0:\",end=\"\")\n",
    "binary(0)\n",
    "#print(\"/n1:\",end=\"\")\n",
    "binary(1)\n",
    "#print(\"/n3:\",end=\"\")\n",
    "binary(3)\n",
    "#print(\"/n9:\",end=\"\")\n",
    "binary(9)"
   ]
  },
  {
   "cell_type": "markdown",
   "id": "d9c52f77",
   "metadata": {},
   "source": [
    "**QUESTION 8**"
   ]
  },
  {
   "cell_type": "markdown",
   "id": "2fcfad05",
   "metadata": {},
   "source": [
    "\n",
    "\n",
    "A) All the temperature data.\n",
    "\n",
    "ANS:\n",
    "\n",
    "select * from temperature;\n",
    "\n",
    "B) All the cities, but without repetition.\n",
    "\n",
    "ANS:\n",
    "\n",
    "select distinct City from temperature;\n",
    "\n",
    "select city from temperature group by city;\n",
    "\n",
    "C) All the records for India.\n",
    "\n",
    "ANS:\n",
    "\n",
    "select * from temperature where Country='India';\n",
    "\n",
    "D) All the Fall records.\n",
    "\n",
    "ANS:\n",
    "\n",
    "select * from temperature where season ='Fall';\n",
    "\n",
    "E) The city, country, and season for which the average rainfall is between 200 and 400 millimeters.\n",
    "\n",
    "ANS:\n",
    "\n",
    "select city, country, season from temperature where Rainfall between 200 and 400;\n",
    "\n",
    "F) The city and country for which the average Fall temperature is above 20 degrees, in increasing temperature order.\n",
    "\n",
    "ANS:\n",
    "\n",
    "select city,country from temperature where temperature>20 order by temperature asc;\n",
    "\n",
    "G) The total annual rainfall for Cairo.\n",
    "\n",
    "ANS:\n",
    "\n",
    "select sum(Rainfall) as \"annual rainfall\" from temperature where city='Cairo';\n",
    "\n",
    "H) The total rainfall for each season.\n",
    "\n",
    "ANS:\n",
    "\n",
    "select season,sum(Rainfall) as \"annual rainfall\" from temperature group by season;"
   ]
  },
  {
   "cell_type": "markdown",
   "id": "40f89244",
   "metadata": {},
   "source": [
    "**QUESTION 9**"
   ]
  },
  {
   "cell_type": "code",
   "execution_count": 11,
   "id": "aa69d41b",
   "metadata": {},
   "outputs": [
    {
     "name": "stdout",
     "output_type": "stream",
     "text": [
      "['THE', 'QUICK', 'BROWN', 'FOX', 'JUMPS', 'OVER', 'THE', 'LAZY', 'DOG']\n",
      "['the', 'quick', 'brown', 'fox', 'jumps', 'over', 'the', 'lazy', 'dog']\n",
      "[3, 5, 5, 3, 5, 4, 3, 4, 3]\n",
      "[['THE', 'the', 3], ['QUICK', 'quick', 5], ['BROWN', 'brown', 5], ['FOX', 'fox', 3], ['JUMPS', 'jumps', 5], ['OVER', 'over', 4], ['THE', 'the', 3], ['LAZY', 'lazy', 4], ['DOG', 'dog', 3]]\n",
      "['quick', 'brown', 'jumps', 'over', 'lazy']\n"
     ]
    }
   ],
   "source": [
    "words = ['The', 'quick', 'brown', 'fox', 'jumps', 'over', 'the', 'lazy', 'dog']\n",
    "\n",
    "upper = []\n",
    "lower = []\n",
    "counts = []\n",
    "combinations = [] \n",
    "lenghtArr = []\n",
    "\n",
    "for word in words : \n",
    "    upper.append(word.upper())\n",
    "    lower.append(word.lower())\n",
    "    counts.append(len(word))\n",
    "    combinations.append([word.upper(), word.lower(), len(word)])\n",
    "    if len(word) > 3 : \n",
    "        lenghtArr.append(word)\n",
    "print(upper)\n",
    "print(lower)\n",
    "print(counts)   \n",
    "print(combinations)  \n",
    "print(lenghtArr)     "
   ]
  },
  {
   "cell_type": "code",
   "execution_count": null,
   "id": "2f6a5183",
   "metadata": {},
   "outputs": [],
   "source": []
  }
 ],
 "metadata": {
  "kernelspec": {
   "display_name": "Python 3 (ipykernel)",
   "language": "python",
   "name": "python3"
  },
  "language_info": {
   "codemirror_mode": {
    "name": "ipython",
    "version": 3
   },
   "file_extension": ".py",
   "mimetype": "text/x-python",
   "name": "python",
   "nbconvert_exporter": "python",
   "pygments_lexer": "ipython3",
   "version": "3.9.13"
  }
 },
 "nbformat": 4,
 "nbformat_minor": 5
}
